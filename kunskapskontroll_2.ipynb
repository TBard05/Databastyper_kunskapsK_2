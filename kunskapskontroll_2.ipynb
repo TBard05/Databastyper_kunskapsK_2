{
  "cells": [
    {
      "cell_type": "markdown",
      "metadata": {},
      "source": [
        "DATA24HEL_DBT25/Databastyper\n",
        "# Kunskapskontroll 2\n",
        "\n",
        "Gör kurserna i den här samlingen: [https://learn.microsoft.com/en-us/collections/3140s6twkorq6z?&sharingId=A70F2DF98827F6CC](https://learn.microsoft.com/en-us/collections/3140s6twkorq6z?&sharingId=A70F2DF98827F6CC)\n",
        "\n",
        "### OBS! Du behöver __inte__ göra *exercises*!\n",
        "\n",
        "Svara på frågorna nedan. Eftersom kurserna är på engelska har jag skrivit även frågorna på engelska. Det går bra att svara på svenska eller engelska.\n"
      ]
    },
    {
      "cell_type": "markdown",
      "metadata": {},
      "source": [
        "---\n",
        "## Microsoft Azure Data Fundamentals: Explore core data concepts\n",
        "### Explore core data concepts\n",
        "#### Identify data formats\n",
        "\n",
        "❓ What data format is often represented as JSON?"
      ]
    },
    {
      "cell_type": "markdown",
      "metadata": {},
      "source": [
        "✔️ Answer: semistrukturerad"
      ]
    },
    {
      "cell_type": "markdown",
      "metadata": {},
      "source": [
        "❓ What data format is represented in a tabular format?"
      ]
    },
    {
      "cell_type": "markdown",
      "metadata": {},
      "source": [
        "✔️ Answer: strukturerad"
      ]
    },
    {
      "cell_type": "markdown",
      "metadata": {},
      "source": [
        "❓ What is the data format of images, pdf-documents and binary files called?"
      ]
    },
    {
      "cell_type": "markdown",
      "metadata": {},
      "source": [
        "✔️ Answer: ostrukturerad"
      ]
    },
    {
      "cell_type": "markdown",
      "metadata": {},
      "source": [
        "#### Explore file storage\n"
      ]
    },
    {
      "cell_type": "markdown",
      "metadata": {},
      "source": [
        "❓ Give an example of an optimized file format for structured and semi-structured data."
      ]
    },
    {
      "cell_type": "markdown",
      "metadata": {},
      "source": [
        "✔️ Answer: CSV"
      ]
    },
    {
      "cell_type": "markdown",
      "metadata": {},
      "source": [
        "#### Explore transactional data processing\n",
        "❓ What are OLTP systems designed for?\n"
      ]
    },
    {
      "cell_type": "markdown",
      "metadata": {},
      "source": [
        "✔️ Answer: För att försäkra sig om datans integritet under transaktioner"
      ]
    },
    {
      "cell_type": "markdown",
      "metadata": {},
      "source": [
        "#### Explore analytical data processing\n",
        "❓ What are OLAP systems designed for?\n"
      ]
    },
    {
      "cell_type": "markdown",
      "metadata": {},
      "source": [
        "✔️ Answer: En typ av datalagring som är optimerad för en analytisk arbetsbelastning, där datan aggregeras över olika dimensioner, vilket gör att man kan navigera både upp och ner i hierarkin (även kallat drill up & drill down)."
      ]
    },
    {
      "cell_type": "markdown",
      "metadata": {},
      "source": [
        "### Explore data roles and services\n",
        "#### Explore job roles in the world of data\n",
        "\n",
        "❓Describe some of the responsibilities of a:\n",
        "\n",
        "* Database Administrator\n",
        "* Data Engineer\n",
        "* Data Analyst"
      ]
    },
    {
      "cell_type": "markdown",
      "metadata": {},
      "source": [
        "✔️ Answer: \n",
        "Database Administrator:\n",
        "Ser till att data är tillgänglig för användning. Ansvarar även för implementation, underhåll och operativa aspekter samt datasäkerhet, till exempel vem som har tillgång till vad.\n",
        "\n",
        "Database Engineer:\n",
        "Sorterar, tvättar, transformerar och bygger pipelines för att lagra data för analytiskt arbete. De använder en rad dataplattformsteknologier, inklusive relationella och icke-relationella databaser, fillagring och datastreams. De ansvarar också för dataskydd, oavsett om det är on-premises eller i molnet.\n",
        "\n",
        "Data Analyst:\n",
        "Maximerar företagets värde av data genom att analysera den för att identifiera trender och affärsmöjligheter. De omvandlar data till tydliga insikter genom grafer, tabeller och andra visualiseringar.\n",
        "\n",
        "Pipeline:\n",
        "En serie av databearbetande element där utdata från ett element blir indata till nästa."
      ]
    },
    {
      "cell_type": "markdown",
      "metadata": {},
      "source": [
        "---\n",
        "## Microsoft Azure Data Fundamentals: Explore relational data in Azure\n",
        "### Explore fundamental relational data concepts\n",
        "\n",
        "❓ How is relational data commonly organized?"
      ]
    },
    {
      "cell_type": "markdown",
      "metadata": {},
      "source": [
        "✔️ Answer: I kolumner och rader"
      ]
    },
    {
      "cell_type": "markdown",
      "metadata": {},
      "source": [
        "❓ What are the main reasons for normalizing relational data?"
      ]
    },
    {
      "cell_type": "markdown",
      "metadata": {},
      "source": [
        "✔️ Answer: För att minska risken för redundant data och för att försäkra datans integritet."
      ]
    },
    {
      "cell_type": "markdown",
      "metadata": {},
      "source": [
        "### Explore relational database services in Azure\n",
        "\n",
        "❓ Which of the Azure SQL services requires you to manage configuration, backups, and other maintenance tasks yourself?"
      ]
    },
    {
      "cell_type": "markdown",
      "metadata": {},
      "source": [
        "✔️ Answer: VMs"
      ]
    },
    {
      "cell_type": "markdown",
      "metadata": {},
      "source": [
        "---\n",
        "## Microsoft Azure Data Fundamentals: Explore non-relational data in Azure\n",
        "### Explore Azure blob storage\n",
        "\n",
        "❓ What are the three types of blob that Azure Blob Storage supports?"
      ]
    },
    {
      "cell_type": "markdown",
      "metadata": {},
      "source": [
        "✔️ Answer: Ett sätt att lagra rådata binärt i molnet, med en separat container för lagringen"
      ]
    },
    {
      "cell_type": "markdown",
      "metadata": {},
      "source": [
        "### Explore fundamentals of Azure Cosmos DB\n",
        "#### Describe Azure Cosmos DB\n",
        "\n",
        "❓ Which data storage scenarios are Azure Cosmos DB suitable for? "
      ]
    },
    {
      "cell_type": "markdown",
      "metadata": {},
      "source": [
        "✔️ Answer: När ett konstant flöde av data ska lagras och de flesta administrativa uppgifter hanteras automatiskt"
      ]
    },
    {
      "cell_type": "markdown",
      "metadata": {},
      "source": [
        "#### Identify Azure Cosmos DB API\n",
        "\n",
        "❓ With Azure Cosmos DB for NoSQL you can use SQL syntax to make queries to a NoSQL database, but how are the results formatted?"
      ]
    },
    {
      "cell_type": "markdown",
      "metadata": {},
      "source": [
        "✔️ Answer: Man får ut JSON i en dokumnet struktur"
      ]
    },
    {
      "cell_type": "markdown",
      "metadata": {},
      "source": [
        "---\n",
        "## Explore fundamentals of large-scale analytics\n",
        "### Explore analytical data stores\n"
      ]
    },
    {
      "cell_type": "markdown",
      "metadata": {},
      "source": [
        "\n",
        "❓ What kind of analytical data store should you choose when you have structured data?"
      ]
    },
    {
      "cell_type": "markdown",
      "metadata": {},
      "source": [
        "✔️ Answer: Data warehouse"
      ]
    },
    {
      "cell_type": "markdown",
      "metadata": {},
      "source": [
        "❓ What kind of analytical data store should you choose when you have a mix of structured, semi-structured and unstructured data?"
      ]
    },
    {
      "cell_type": "markdown",
      "metadata": {},
      "source": [
        "✔️ Answer: Data lake"
      ]
    },
    {
      "cell_type": "markdown",
      "metadata": {},
      "source": [
        "❓ What is a hybrid data store that combines features of data lakes and data warehouses called?"
      ]
    },
    {
      "cell_type": "markdown",
      "metadata": {},
      "source": [
        "✔️ Answer: Data lakehouse"
      ]
    },
    {
      "cell_type": "markdown",
      "metadata": {},
      "source": [
        "---\n",
        "## Store Data in Azure\n",
        "### Choose a data storage apporach in Azure\n",
        "#### Classify your data"
      ]
    },
    {
      "cell_type": "markdown",
      "metadata": {},
      "source": [
        "❓ How is business data classified?"
      ]
    },
    {
      "cell_type": "markdown",
      "metadata": {},
      "source": [
        "✔️ Answer: Strukturerad\n"
      ]
    },
    {
      "cell_type": "markdown",
      "metadata": {},
      "source": [
        "\n",
        "❓ How is data for a product catalog classified?"
      ]
    },
    {
      "cell_type": "markdown",
      "metadata": {},
      "source": [
        "✔️ Answer: Semistrukturerad\n"
      ]
    },
    {
      "cell_type": "markdown",
      "metadata": {},
      "source": [
        "❓ How is data representing photos and videos classified?"
      ]
    },
    {
      "cell_type": "markdown",
      "metadata": {},
      "source": [
        "✔️ Answer: Ostrukturerad\n"
      ]
    },
    {
      "cell_type": "markdown",
      "metadata": {},
      "source": [
        "#### Group multiple operations in a transaction\n",
        "\n",
        "❓ What is ACID?"
      ]
    },
    {
      "cell_type": "markdown",
      "metadata": {},
      "source": [
        "✔️ Answer: \n",
        "Atomicity: Att behandla varje transaktion som en enhet. Om transaktionerna utförs i följd måste alla genomföras korrekt; annars måste alla misslyckas.\n",
        "\n",
        "Consistency: Man kan endast flytta data från ett \"giltigt tillstånd\" till ett annat \"giltigt tillstånd\". Det innebär att den avslutade transaktionen måste återspegla flytten av datan från en plats till en annan.\n",
        "\n",
        "Isolation: Transaktioner ska inte påverkas av varandra. Till exempel, om man vill överföra pengar ska man kunna övervaka överföringen utan att störa den.\n",
        "\n",
        "Durability: Som ett kvitto när transaktionen har genomförts; den är \"ristad i sten\". Om databasen stängs ner ska resultatet fortfarande kunna ses när den startas igen.\n"
      ]
    },
    {
      "cell_type": "markdown",
      "metadata": {},
      "source": [
        "❓ Which of the three datasets (product catalog, photos and videos, business data) is transactional?"
      ]
    },
    {
      "cell_type": "markdown",
      "metadata": {},
      "source": [
        "✔️ Answer: \n",
        "Produktkatalog: Transaktionell\n",
        "\n",
        "Foton och videor: Inte transaktionella\n",
        "\n",
        "Affärsdata: Kan vara både, men lutar mer åt att inte vara transaktionell\n"
      ]
    },
    {
      "cell_type": "markdown",
      "metadata": {},
      "source": [
        "#### Choose a storage solution in Azure"
      ]
    },
    {
      "cell_type": "markdown",
      "metadata": {},
      "source": [
        "❓ What is the recommended service for a semi-structured dataset that needs a high number of both read and write operations?"
      ]
    },
    {
      "cell_type": "markdown",
      "metadata": {},
      "source": [
        "✔️ Answer: Azure Cosmos DB\n"
      ]
    },
    {
      "cell_type": "markdown",
      "metadata": {},
      "source": [
        "❓ What is the recommended service for a structured dataset that will be used for analytical purposes only?"
      ]
    },
    {
      "cell_type": "markdown",
      "metadata": {},
      "source": [
        "✔️ Answer: Azure SQL Database\n"
      ]
    },
    {
      "cell_type": "markdown",
      "metadata": {},
      "source": [
        "### Create an Azure Storage Account\n",
        "#### Decide how many storage accounts you need"
      ]
    },
    {
      "cell_type": "markdown",
      "metadata": {},
      "source": [
        "❓ What is the difference between Hot and Cold access tiers?"
      ]
    },
    {
      "cell_type": "markdown",
      "metadata": {},
      "source": [
        "✔️ Answer: Hot: Används för data med högre användningsgrad, alltså data som används hela tiden.\n",
        "Cold: Används för historisk data som man inte alltid behöver använda. Nackdelen med cold-datan är att det tar längre tid att hämta den jämfört med hot-datan, som går snabbare att få åtkomst till"
      ]
    },
    {
      "cell_type": "markdown",
      "metadata": {},
      "source": [
        "#### Choose your account settings"
      ]
    },
    {
      "cell_type": "markdown",
      "metadata": {},
      "source": [
        "❓ When creating an Azure Storage Account, which deployment model should you choose?"
      ]
    },
    {
      "cell_type": "markdown",
      "metadata": {},
      "source": [
        "✔️ Answer: Resource Manager eftersom Classic Resource Manager pensioneras\n"
      ]
    },
    {
      "cell_type": "markdown",
      "metadata": {},
      "source": [
        "#### Choose an account creation tool"
      ]
    },
    {
      "cell_type": "markdown",
      "metadata": {},
      "source": [
        "❓ The most commonly used account creation tool is the Azure Portal. Why?"
      ]
    },
    {
      "cell_type": "markdown",
      "metadata": {},
      "source": [
        "✔️ Answer: För att det oftast är stabil data som hanteras i ett storage account, och då är det en engångsoperation som görs i början av projektet. I Azure Portal är detta det vanligaste alternativet\n"
      ]
    },
    {
      "cell_type": "markdown",
      "metadata": {},
      "source": [
        "### Secure your Azure Storage account\n",
        "#### Explore Azure Storage security features"
      ]
    },
    {
      "cell_type": "markdown",
      "metadata": {},
      "source": [
        "❓ How do you disable encryption at rest?"
      ]
    },
    {
      "cell_type": "markdown",
      "metadata": {},
      "source": [
        "✔️ Answer: Det kan man inte \n"
      ]
    },
    {
      "cell_type": "markdown",
      "metadata": {},
      "source": [
        "❓ What happens if you require *secure transfer* for your storage account?"
      ]
    },
    {
      "cell_type": "markdown",
      "metadata": {},
      "source": [
        "✔️ Answer: Man förstärker användningen av HTTPS, vilket innebär att HTTP inte längre kommer att fungera\n"
      ]
    },
    {
      "cell_type": "markdown",
      "metadata": {},
      "source": [
        "❓ What is CORS?"
      ]
    },
    {
      "cell_type": "markdown",
      "metadata": {},
      "source": [
        "✔️ Answer: Det är en valfri funktion i storage accounts som ger headers lämpliga titlar när man använder HTTP GET-förfrågningar för att hämta information från sitt storage account\n"
      ]
    },
    {
      "cell_type": "markdown",
      "metadata": {},
      "source": [
        "❓ Which Azure service can you use to audit accesses to your data?"
      ]
    },
    {
      "cell_type": "markdown",
      "metadata": {},
      "source": [
        "✔️ Answer: Storage Analytics loggar alla operationer som utförs i ditt storage account\n"
      ]
    },
    {
      "cell_type": "markdown",
      "metadata": {},
      "source": [
        "#### Understand storage account keys"
      ]
    },
    {
      "cell_type": "markdown",
      "metadata": {},
      "source": [
        "❓ Which authentication option is the best for Blob and Queue storage?"
      ]
    },
    {
      "cell_type": "markdown",
      "metadata": {},
      "source": [
        "✔️ Answer: Active Directory-autentisering\n"
      ]
    },
    {
      "cell_type": "markdown",
      "metadata": {},
      "source": [
        "#### Understand shared access signatures (SAS)"
      ]
    },
    {
      "cell_type": "markdown",
      "metadata": {},
      "source": [
        "❓ What are the two levels of SAS?"
      ]
    },
    {
      "cell_type": "markdown",
      "metadata": {},
      "source": [
        "✔️ Answer: Man har en frontend-proxytjänst och sedan en lightweight version\n"
      ]
    },
    {
      "cell_type": "markdown",
      "metadata": {},
      "source": [
        "#### Control network access to your storage account"
      ]
    },
    {
      "cell_type": "markdown",
      "metadata": {},
      "source": [
        "❓ What must you do before you change the default network access action from *grant* to *deny*?"
      ]
    },
    {
      "cell_type": "markdown",
      "metadata": {},
      "source": [
        "✔️ Answer: Innan du ändrar standardregeln till 'deny', se till att nätverksreglerna ger åtkomst till alla tillåtna nätverk\n"
      ]
    },
    {
      "cell_type": "markdown",
      "metadata": {},
      "source": [
        "### Store application data with Azure Blob Storage\n",
        "#### What are blobs?"
      ]
    },
    {
      "cell_type": "markdown",
      "metadata": {},
      "source": [
        "❓ What kind of data can't be stored as a blob?"
      ]
    },
    {
      "cell_type": "markdown",
      "metadata": {},
      "source": [
        "✔️ Answer: data som kräver indexering\n"
      ]
    },
    {
      "cell_type": "markdown",
      "metadata": {},
      "source": [
        "❓ What kind of data shouldn't be stored as a blob?"
      ]
    },
    {
      "cell_type": "markdown",
      "metadata": {},
      "source": [
        "✔️ Answer: Strukturerad data\n"
      ]
    },
    {
      "cell_type": "markdown",
      "metadata": {},
      "source": [
        "---\n",
        "## Integrate data with Azure Data Factory or Azure Synapse Pipeline\n",
        "### Understand Azure Data Factory"
      ]
    },
    {
      "cell_type": "markdown",
      "metadata": {},
      "source": [
        "❓ Which part of the symphony orchestra does Azure Data Factory play, according to the analogy?"
      ]
    },
    {
      "cell_type": "markdown",
      "metadata": {},
      "source": [
        "✔️ Answer: ADF = Conductor\n"
      ]
    },
    {
      "cell_type": "markdown",
      "metadata": {},
      "source": [
        "#### Describe data integration patterns"
      ]
    },
    {
      "cell_type": "markdown",
      "metadata": {},
      "source": [
        "❓ What does ETL stand for?"
      ]
    },
    {
      "cell_type": "markdown",
      "metadata": {},
      "source": [
        "✔️ Answer: Extract Transform Load\n"
      ]
    },
    {
      "cell_type": "markdown",
      "metadata": {},
      "source": [
        "❓ What does ELT stand for?"
      ]
    },
    {
      "cell_type": "markdown",
      "metadata": {},
      "source": [
        "✔️ Answer: Extract Load Transform\n"
      ]
    },
    {
      "cell_type": "markdown",
      "metadata": {},
      "source": [
        "❓ What is the difference between ETL and ELT?"
      ]
    },
    {
      "cell_type": "markdown",
      "metadata": {},
      "source": [
        "✔️ Answer: ELT sparar datan i dess ursprungliga form. Formateringen sker i transformstadiet, vilket gör att datan kan användas i flera 'downstream'-system\n"
      ]
    },
    {
      "cell_type": "markdown",
      "metadata": {},
      "source": [
        "#### Create Data Factory activities and pipelines"
      ]
    },
    {
      "cell_type": "markdown",
      "metadata": {},
      "source": [
        "❓ Which are the three categories of Azure Data factory activities?"
      ]
    },
    {
      "cell_type": "markdown",
      "metadata": {},
      "source": [
        "✔️ Answer: Data movement activities – Aktiviteter för dataförflyttning\n",
        "\n",
        "Data transformation activities – Aktiviteter för datatransformation\n",
        "\n",
        "Control activities – Kontrollaktiviteter"
      ]
    },
    {
      "cell_type": "markdown",
      "metadata": {},
      "source": [
        "---\n",
        "## Large-scale data processing with Azure Data Lake Storage Gen2\n",
        "### Introduction to Azure Data Lake Storage Gen2\n",
        "#### Understand Azure Data Lake Storage Gen2"
      ]
    },
    {
      "cell_type": "markdown",
      "metadata": {},
      "source": [
        "❓ Which format is data stored in in a data lake?"
      ]
    },
    {
      "cell_type": "markdown",
      "metadata": {},
      "source": [
        "✔️ Answer: Datans naturliga format\n"
      ]
    },
    {
      "cell_type": "markdown",
      "metadata": {},
      "source": [
        "❓ Which factors should influence the planning of a data lake?"
      ]
    },
    {
      "cell_type": "markdown",
      "metadata": {},
      "source": [
        "✔️ Answer: Vilka typer av data som ska lagras, hur datan ska transformeras, vem som ska ha tillgång till datan och vilka åtkomstmönstren är\n"
      ]
    },
    {
      "cell_type": "markdown",
      "metadata": {},
      "source": [
        "#### Enable Azure Data Lake storage Gen2 in Azure Storage"
      ]
    },
    {
      "cell_type": "markdown",
      "metadata": {},
      "source": [
        "❓ What is the name of the option that enables Azure Data Lake Storage Gen2?"
      ]
    },
    {
      "cell_type": "markdown",
      "metadata": {},
      "source": [
        "✔️ Answer: Enable hierarchical namespace\n"
      ]
    },
    {
      "cell_type": "markdown",
      "metadata": {},
      "source": [
        "#### Compare Azure Data Lake Storage and Azure Blob storage"
      ]
    },
    {
      "cell_type": "markdown",
      "metadata": {},
      "source": [
        "❓ What is the main difference between Azure Data Lake Storage and Azure Blob storage?"
      ]
    },
    {
      "cell_type": "markdown",
      "metadata": {},
      "source": [
        "✔️ Answer: Data Lake Storage bygger på Blob Storage, men den stora skillnaden är hierarchical namespace\n"
      ]
    },
    {
      "cell_type": "markdown",
      "metadata": {},
      "source": [
        "❓ What kind of storage account should you use to store website assets such as images and videos?"
      ]
    },
    {
      "cell_type": "markdown",
      "metadata": {},
      "source": [
        "✔️ Answer: Data lake\n"
      ]
    },
    {
      "cell_type": "markdown",
      "metadata": {},
      "source": [
        "❓ What kind of storage account should you use to store data that you wih to perform analytics on?"
      ]
    },
    {
      "cell_type": "markdown",
      "metadata": {},
      "source": [
        "✔️ Answer: A Data Lakehouse or a Warehouse\n"
      ]
    },
    {
      "cell_type": "markdown",
      "metadata": {},
      "source": [
        "#### Use Azure Data Lake Storage Gen2 in data analytics workloads"
      ]
    },
    {
      "cell_type": "markdown",
      "metadata": {},
      "source": [
        "❓ What are the three \"v's\" that are involved when processing big data?"
      ]
    },
    {
      "cell_type": "markdown",
      "metadata": {},
      "source": [
        "✔️ Answer: Volumes, Variety & velocity\n"
      ]
    }
  ],
  "metadata": {
    "kernelspec": {
      "display_name": "Python 3 (ipykernel)",
      "language": "python",
      "name": "python3",
      "path": "/home/linus/.local/share/jupyter/kernels/python3"
    }
  },
  "nbformat": 4,
  "nbformat_minor": 4
}
